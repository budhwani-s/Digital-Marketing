{
  "nbformat": 4,
  "nbformat_minor": 0,
  "metadata": {
    "colab": {
      "name": "Assignment 2 .ipynb",
      "provenance": [],
      "collapsed_sections": []
    },
    "kernelspec": {
      "name": "python3",
      "display_name": "Python 3"
    }
  },
  "cells": [
    {
      "cell_type": "code",
      "metadata": {
        "id": "LbUjrlAs1tKI",
        "colab_type": "code",
        "colab": {}
      },
      "source": [
        "import numpy as np\n",
        "import pandas as pd\n"
      ],
      "execution_count": 0,
      "outputs": []
    },
    {
      "cell_type": "code",
      "metadata": {
        "id": "liZ-5NVpYAl0",
        "colab_type": "code",
        "colab": {}
      },
      "source": [
        "\n",
        "import datetime \n",
        "import time\n",
        "\n",
        "%matplotlib inline\n",
        "import matplotlib.pyplot as plt \n",
        "import seaborn as sns"
      ],
      "execution_count": 0,
      "outputs": []
    },
    {
      "cell_type": "markdown",
      "metadata": {
        "id": "eZNTPuXTy7Yb",
        "colab_type": "text"
      },
      "source": [
        "Reading the Datasets"
      ]
    },
    {
      "cell_type": "code",
      "metadata": {
        "id": "NoG5qI8jb1wS",
        "colab_type": "code",
        "colab": {}
      },
      "source": [
        "category_df = pd.read_csv('/content/category.csv')\n",
        "item_df = pd.read_csv('/content/items.csv')\n",
        "events_df = pd.read_csv('/content/events 100k (1).csv')"
      ],
      "execution_count": 0,
      "outputs": []
    },
    {
      "cell_type": "code",
      "metadata": {
        "id": "pI88zp4UG9c_",
        "colab_type": "code",
        "colab": {}
      },
      "source": [
        "category_df = pd.read_csv('item2_merging.csv')"
      ],
      "execution_count": 0,
      "outputs": []
    },
    {
      "cell_type": "code",
      "metadata": {
        "id": "I_atoCWhAEyS",
        "colab_type": "code",
        "outputId": "ce325d2e-3f24-4a68-a497-393130410e5b",
        "colab": {
          "base_uri": "https://localhost:8080/",
          "height": 35
        }
      },
      "source": [
        "category_df.shape"
      ],
      "execution_count": 41,
      "outputs": [
        {
          "output_type": "execute_result",
          "data": {
            "text/plain": [
              "(499999, 4)"
            ]
          },
          "metadata": {
            "tags": []
          },
          "execution_count": 41
        }
      ]
    },
    {
      "cell_type": "code",
      "metadata": {
        "id": "yuQChc453vmi",
        "colab_type": "code",
        "outputId": "95fa120e-fe12-48f8-ee22-1be9f6936a59",
        "colab": {
          "base_uri": "https://localhost:8080/",
          "height": 260
        }
      },
      "source": [
        "category_df.head"
      ],
      "execution_count": 44,
      "outputs": [
        {
          "output_type": "execute_result",
          "data": {
            "text/plain": [
              "<bound method NDFrame.head of                  timestamp  ...                                        value\n",
              "0      2015-08-23 03:20:00  ...                1141052 n48.000 140719 553394\n",
              "1      2015-05-10 03:53:20  ...                                         1607\n",
              "2      2015-06-07 04:06:40  ...                                       496949\n",
              "3      2015-05-17 02:33:20  ...                                   n98880.000\n",
              "4      2015-06-28 02:53:20  ...  798976 n7680.000 824508 45579 844667 999696\n",
              "...                    ...  ...                                          ...\n",
              "499994 2015-05-31 02:40:00  ...                                   n17196.000\n",
              "499995 2015-07-05 04:20:00  ...                              n324.000 396934\n",
              "499996 2015-08-02 01:46:40  ...          664227 1305534 664227 463202 664227\n",
              "499997 2015-05-24 04:00:00  ...                                      1230384\n",
              "499998 2015-06-28 02:53:20  ...                                       159862\n",
              "\n",
              "[499999 rows x 4 columns]>"
            ]
          },
          "metadata": {
            "tags": []
          },
          "execution_count": 44
        }
      ]
    },
    {
      "cell_type": "code",
      "metadata": {
        "id": "AJ5vs7ZxdBwl",
        "colab_type": "code",
        "colab": {}
      },
      "source": [
        "category_df.to_csv('item2_merging_timestamp.csv')"
      ],
      "execution_count": 0,
      "outputs": []
    },
    {
      "cell_type": "code",
      "metadata": {
        "id": "z5Ynmw6247Wt",
        "colab_type": "code",
        "outputId": "302e85bb-d264-4ad7-9817-4cd6800f01df",
        "colab": {
          "base_uri": "https://localhost:8080/",
          "height": 35
        }
      },
      "source": [
        "type(category_df['timestamp'])"
      ],
      "execution_count": 7,
      "outputs": [
        {
          "output_type": "execute_result",
          "data": {
            "text/plain": [
              "pandas.core.series.Series"
            ]
          },
          "metadata": {
            "tags": []
          },
          "execution_count": 7
        }
      ]
    },
    {
      "cell_type": "code",
      "metadata": {
        "id": "F7WcA4nykzVD",
        "colab_type": "code",
        "outputId": "c24f7487-2eb1-4fcb-aa10-94212793d662",
        "colab": {
          "base_uri": "https://localhost:8080/",
          "height": 202
        }
      },
      "source": [
        "events_df.head()"
      ],
      "execution_count": 0,
      "outputs": [
        {
          "output_type": "execute_result",
          "data": {
            "text/html": [
              "<div>\n",
              "<style scoped>\n",
              "    .dataframe tbody tr th:only-of-type {\n",
              "        vertical-align: middle;\n",
              "    }\n",
              "\n",
              "    .dataframe tbody tr th {\n",
              "        vertical-align: top;\n",
              "    }\n",
              "\n",
              "    .dataframe thead th {\n",
              "        text-align: right;\n",
              "    }\n",
              "</style>\n",
              "<table border=\"1\" class=\"dataframe\">\n",
              "  <thead>\n",
              "    <tr style=\"text-align: right;\">\n",
              "      <th></th>\n",
              "      <th>timestamp</th>\n",
              "      <th>visitorid</th>\n",
              "      <th>event</th>\n",
              "      <th>itemid</th>\n",
              "      <th>transactionid</th>\n",
              "    </tr>\n",
              "  </thead>\n",
              "  <tbody>\n",
              "    <tr>\n",
              "      <th>0</th>\n",
              "      <td>2015-06-02 05:02:12</td>\n",
              "      <td>257597</td>\n",
              "      <td>view</td>\n",
              "      <td>355908</td>\n",
              "      <td>NaN</td>\n",
              "    </tr>\n",
              "    <tr>\n",
              "      <th>1</th>\n",
              "      <td>2015-06-02 05:50:14</td>\n",
              "      <td>992329</td>\n",
              "      <td>view</td>\n",
              "      <td>248676</td>\n",
              "      <td>NaN</td>\n",
              "    </tr>\n",
              "    <tr>\n",
              "      <th>2</th>\n",
              "      <td>2015-06-02 05:13:19</td>\n",
              "      <td>111016</td>\n",
              "      <td>view</td>\n",
              "      <td>318965</td>\n",
              "      <td>NaN</td>\n",
              "    </tr>\n",
              "    <tr>\n",
              "      <th>3</th>\n",
              "      <td>2015-06-02 05:12:35</td>\n",
              "      <td>483717</td>\n",
              "      <td>view</td>\n",
              "      <td>253185</td>\n",
              "      <td>NaN</td>\n",
              "    </tr>\n",
              "    <tr>\n",
              "      <th>4</th>\n",
              "      <td>2015-06-02 05:02:17</td>\n",
              "      <td>951259</td>\n",
              "      <td>view</td>\n",
              "      <td>367447</td>\n",
              "      <td>NaN</td>\n",
              "    </tr>\n",
              "  </tbody>\n",
              "</table>\n",
              "</div>"
            ],
            "text/plain": [
              "            timestamp  visitorid event  itemid  transactionid\n",
              "0 2015-06-02 05:02:12     257597  view  355908            NaN\n",
              "1 2015-06-02 05:50:14     992329  view  248676            NaN\n",
              "2 2015-06-02 05:13:19     111016  view  318965            NaN\n",
              "3 2015-06-02 05:12:35     483717  view  253185            NaN\n",
              "4 2015-06-02 05:02:17     951259  view  367447            NaN"
            ]
          },
          "metadata": {
            "tags": []
          },
          "execution_count": 22
        }
      ]
    },
    {
      "cell_type": "code",
      "metadata": {
        "id": "-ISl2RWtlCKE",
        "colab_type": "code",
        "colab": {}
      },
      "source": [
        "events_df.to_csv('events.csv')"
      ],
      "execution_count": 0,
      "outputs": []
    },
    {
      "cell_type": "code",
      "metadata": {
        "id": "VmwLCksecVGO",
        "colab_type": "code",
        "outputId": "6834407b-e6f7-4c25-f69a-b6f8a060871d",
        "colab": {
          "base_uri": "https://localhost:8080/",
          "height": 202
        }
      },
      "source": [
        "item_properties_1_df.head()"
      ],
      "execution_count": 0,
      "outputs": [
        {
          "output_type": "execute_result",
          "data": {
            "text/html": [
              "<div>\n",
              "<style scoped>\n",
              "    .dataframe tbody tr th:only-of-type {\n",
              "        vertical-align: middle;\n",
              "    }\n",
              "\n",
              "    .dataframe tbody tr th {\n",
              "        vertical-align: top;\n",
              "    }\n",
              "\n",
              "    .dataframe thead th {\n",
              "        text-align: right;\n",
              "    }\n",
              "</style>\n",
              "<table border=\"1\" class=\"dataframe\">\n",
              "  <thead>\n",
              "    <tr style=\"text-align: right;\">\n",
              "      <th></th>\n",
              "      <th>timestamp</th>\n",
              "      <th>itemid</th>\n",
              "      <th>property</th>\n",
              "      <th>value</th>\n",
              "    </tr>\n",
              "  </thead>\n",
              "  <tbody>\n",
              "    <tr>\n",
              "      <th>0</th>\n",
              "      <td>1435460400000</td>\n",
              "      <td>460429</td>\n",
              "      <td>categoryid</td>\n",
              "      <td>1338</td>\n",
              "    </tr>\n",
              "    <tr>\n",
              "      <th>1</th>\n",
              "      <td>1441508400000</td>\n",
              "      <td>206783</td>\n",
              "      <td>888</td>\n",
              "      <td>1116713 960601 n277.200</td>\n",
              "    </tr>\n",
              "    <tr>\n",
              "      <th>2</th>\n",
              "      <td>1439089200000</td>\n",
              "      <td>395014</td>\n",
              "      <td>400</td>\n",
              "      <td>n552.000 639502 n720.000 424566</td>\n",
              "    </tr>\n",
              "    <tr>\n",
              "      <th>3</th>\n",
              "      <td>1431226800000</td>\n",
              "      <td>59481</td>\n",
              "      <td>790</td>\n",
              "      <td>n15360.000</td>\n",
              "    </tr>\n",
              "    <tr>\n",
              "      <th>4</th>\n",
              "      <td>1431831600000</td>\n",
              "      <td>156781</td>\n",
              "      <td>917</td>\n",
              "      <td>828513</td>\n",
              "    </tr>\n",
              "  </tbody>\n",
              "</table>\n",
              "</div>"
            ],
            "text/plain": [
              "       timestamp  itemid    property                            value\n",
              "0  1435460400000  460429  categoryid                             1338\n",
              "1  1441508400000  206783         888          1116713 960601 n277.200\n",
              "2  1439089200000  395014         400  n552.000 639502 n720.000 424566\n",
              "3  1431226800000   59481         790                       n15360.000\n",
              "4  1431831600000  156781         917                           828513"
            ]
          },
          "metadata": {
            "tags": []
          },
          "execution_count": 9
        }
      ]
    },
    {
      "cell_type": "markdown",
      "metadata": {
        "id": "WJQX5BlLzHxa",
        "colab_type": "text"
      },
      "source": [
        "**Concatenating item_properties_1_df and item_properties_2_df**"
      ]
    },
    {
      "cell_type": "code",
      "metadata": {
        "id": "0mXfLWI4wLvj",
        "colab_type": "code",
        "colab": {}
      },
      "source": [
        "items = pd.concat([item_properties_1_df, item_properties_2_df])"
      ],
      "execution_count": 0,
      "outputs": []
    },
    {
      "cell_type": "code",
      "metadata": {
        "id": "z0ZVbLOqwRFZ",
        "colab_type": "code",
        "outputId": "679d18b8-13f8-494b-e497-cfb10d1ec365",
        "colab": {
          "base_uri": "https://localhost:8080/",
          "height": 355
        }
      },
      "source": [
        "items.head(10)"
      ],
      "execution_count": 0,
      "outputs": [
        {
          "output_type": "execute_result",
          "data": {
            "text/html": [
              "<div>\n",
              "<style scoped>\n",
              "    .dataframe tbody tr th:only-of-type {\n",
              "        vertical-align: middle;\n",
              "    }\n",
              "\n",
              "    .dataframe tbody tr th {\n",
              "        vertical-align: top;\n",
              "    }\n",
              "\n",
              "    .dataframe thead th {\n",
              "        text-align: right;\n",
              "    }\n",
              "</style>\n",
              "<table border=\"1\" class=\"dataframe\">\n",
              "  <thead>\n",
              "    <tr style=\"text-align: right;\">\n",
              "      <th></th>\n",
              "      <th>timestamp</th>\n",
              "      <th>itemid</th>\n",
              "      <th>property</th>\n",
              "      <th>value</th>\n",
              "    </tr>\n",
              "  </thead>\n",
              "  <tbody>\n",
              "    <tr>\n",
              "      <th>0</th>\n",
              "      <td>1435460400000</td>\n",
              "      <td>460429.0</td>\n",
              "      <td>categoryid</td>\n",
              "      <td>1338</td>\n",
              "    </tr>\n",
              "    <tr>\n",
              "      <th>1</th>\n",
              "      <td>1441508400000</td>\n",
              "      <td>206783.0</td>\n",
              "      <td>888</td>\n",
              "      <td>1116713 960601 n277.200</td>\n",
              "    </tr>\n",
              "    <tr>\n",
              "      <th>2</th>\n",
              "      <td>1439089200000</td>\n",
              "      <td>395014.0</td>\n",
              "      <td>400</td>\n",
              "      <td>n552.000 639502 n720.000 424566</td>\n",
              "    </tr>\n",
              "    <tr>\n",
              "      <th>3</th>\n",
              "      <td>1431226800000</td>\n",
              "      <td>59481.0</td>\n",
              "      <td>790</td>\n",
              "      <td>n15360.000</td>\n",
              "    </tr>\n",
              "    <tr>\n",
              "      <th>4</th>\n",
              "      <td>1431831600000</td>\n",
              "      <td>156781.0</td>\n",
              "      <td>917</td>\n",
              "      <td>828513</td>\n",
              "    </tr>\n",
              "    <tr>\n",
              "      <th>5</th>\n",
              "      <td>1436065200000</td>\n",
              "      <td>285026.0</td>\n",
              "      <td>available</td>\n",
              "      <td>0</td>\n",
              "    </tr>\n",
              "    <tr>\n",
              "      <th>6</th>\n",
              "      <td>1434250800000</td>\n",
              "      <td>89534.0</td>\n",
              "      <td>213</td>\n",
              "      <td>1121373</td>\n",
              "    </tr>\n",
              "    <tr>\n",
              "      <th>7</th>\n",
              "      <td>1431831600000</td>\n",
              "      <td>264312.0</td>\n",
              "      <td>6</td>\n",
              "      <td>319724</td>\n",
              "    </tr>\n",
              "    <tr>\n",
              "      <th>8</th>\n",
              "      <td>1433646000000</td>\n",
              "      <td>229370.0</td>\n",
              "      <td>202</td>\n",
              "      <td>1330310</td>\n",
              "    </tr>\n",
              "    <tr>\n",
              "      <th>9</th>\n",
              "      <td>1434250800000</td>\n",
              "      <td>98113.0</td>\n",
              "      <td>451</td>\n",
              "      <td>1141052 n48.000</td>\n",
              "    </tr>\n",
              "  </tbody>\n",
              "</table>\n",
              "</div>"
            ],
            "text/plain": [
              "       timestamp    itemid    property                            value\n",
              "0  1435460400000  460429.0  categoryid                             1338\n",
              "1  1441508400000  206783.0         888          1116713 960601 n277.200\n",
              "2  1439089200000  395014.0         400  n552.000 639502 n720.000 424566\n",
              "3  1431226800000   59481.0         790                       n15360.000\n",
              "4  1431831600000  156781.0         917                           828513\n",
              "5  1436065200000  285026.0   available                                0\n",
              "6  1434250800000   89534.0         213                          1121373\n",
              "7  1431831600000  264312.0           6                           319724\n",
              "8  1433646000000  229370.0         202                          1330310\n",
              "9  1434250800000   98113.0         451                  1141052 n48.000"
            ]
          },
          "metadata": {
            "tags": []
          },
          "execution_count": 34
        }
      ]
    },
    {
      "cell_type": "code",
      "metadata": {
        "id": "hTXcJErL81qv",
        "colab_type": "code",
        "outputId": "33829a81-20f4-422f-a769-3a02b9033e60",
        "colab": {
          "base_uri": "https://localhost:8080/",
          "height": 35
        }
      },
      "source": [
        "items.shape"
      ],
      "execution_count": 0,
      "outputs": [
        {
          "output_type": "execute_result",
          "data": {
            "text/plain": [
              "(11426586, 4)"
            ]
          },
          "metadata": {
            "tags": []
          },
          "execution_count": 13
        }
      ]
    },
    {
      "cell_type": "code",
      "metadata": {
        "id": "j6wspbXPGEC-",
        "colab_type": "code",
        "colab": {}
      },
      "source": [
        "from google.colab import drive\n",
        "drive.mount('/content/drive')"
      ],
      "execution_count": 0,
      "outputs": []
    },
    {
      "cell_type": "markdown",
      "metadata": {
        "id": "oKEP5375zLZg",
        "colab_type": "text"
      },
      "source": [
        "**Changing the timestamp under Items and Events **"
      ]
    },
    {
      "cell_type": "code",
      "metadata": {
        "id": "HRdJ6sgiVgHE",
        "colab_type": "code",
        "colab": {}
      },
      "source": [
        "from datetime import datetime"
      ],
      "execution_count": 0,
      "outputs": []
    },
    {
      "cell_type": "code",
      "metadata": {
        "id": "2dmw-qp1hJsi",
        "colab_type": "code",
        "colab": {}
      },
      "source": [
        "import datetime\n",
        "times=[]\n",
        "for i in items['timestamp']:\n",
        "    times.append(datetime.datetime.fromtimestamp(i//1000.0))\n",
        "    "
      ],
      "execution_count": 0,
      "outputs": []
    },
    {
      "cell_type": "code",
      "metadata": {
        "id": "TEIQ1cDkhTe-",
        "colab_type": "code",
        "colab": {}
      },
      "source": [
        "items['timestamp']=times"
      ],
      "execution_count": 0,
      "outputs": []
    },
    {
      "cell_type": "code",
      "metadata": {
        "id": "pGQJ-p40hXPD",
        "colab_type": "code",
        "outputId": "942b50b9-4de7-43df-d5cc-f524d7c15bc5",
        "colab": {
          "base_uri": "https://localhost:8080/",
          "height": 202
        }
      },
      "source": [
        "items.head()"
      ],
      "execution_count": 0,
      "outputs": [
        {
          "output_type": "execute_result",
          "data": {
            "text/html": [
              "<div>\n",
              "<style scoped>\n",
              "    .dataframe tbody tr th:only-of-type {\n",
              "        vertical-align: middle;\n",
              "    }\n",
              "\n",
              "    .dataframe tbody tr th {\n",
              "        vertical-align: top;\n",
              "    }\n",
              "\n",
              "    .dataframe thead th {\n",
              "        text-align: right;\n",
              "    }\n",
              "</style>\n",
              "<table border=\"1\" class=\"dataframe\">\n",
              "  <thead>\n",
              "    <tr style=\"text-align: right;\">\n",
              "      <th></th>\n",
              "      <th>timestamp</th>\n",
              "      <th>itemid</th>\n",
              "      <th>property</th>\n",
              "      <th>value</th>\n",
              "    </tr>\n",
              "  </thead>\n",
              "  <tbody>\n",
              "    <tr>\n",
              "      <th>0</th>\n",
              "      <td>2015-06-28 03:00:00</td>\n",
              "      <td>460429</td>\n",
              "      <td>categoryid</td>\n",
              "      <td>1338</td>\n",
              "    </tr>\n",
              "    <tr>\n",
              "      <th>1</th>\n",
              "      <td>2015-09-06 03:00:00</td>\n",
              "      <td>206783</td>\n",
              "      <td>888</td>\n",
              "      <td>1116713 960601 n277.200</td>\n",
              "    </tr>\n",
              "    <tr>\n",
              "      <th>2</th>\n",
              "      <td>2015-08-09 03:00:00</td>\n",
              "      <td>395014</td>\n",
              "      <td>400</td>\n",
              "      <td>n552.000 639502 n720.000 424566</td>\n",
              "    </tr>\n",
              "    <tr>\n",
              "      <th>3</th>\n",
              "      <td>2015-05-10 03:00:00</td>\n",
              "      <td>59481</td>\n",
              "      <td>790</td>\n",
              "      <td>n15360.000</td>\n",
              "    </tr>\n",
              "    <tr>\n",
              "      <th>4</th>\n",
              "      <td>2015-05-17 03:00:00</td>\n",
              "      <td>156781</td>\n",
              "      <td>917</td>\n",
              "      <td>828513</td>\n",
              "    </tr>\n",
              "  </tbody>\n",
              "</table>\n",
              "</div>"
            ],
            "text/plain": [
              "            timestamp  itemid    property                            value\n",
              "0 2015-06-28 03:00:00  460429  categoryid                             1338\n",
              "1 2015-09-06 03:00:00  206783         888          1116713 960601 n277.200\n",
              "2 2015-08-09 03:00:00  395014         400  n552.000 639502 n720.000 424566\n",
              "3 2015-05-10 03:00:00   59481         790                       n15360.000\n",
              "4 2015-05-17 03:00:00  156781         917                           828513"
            ]
          },
          "metadata": {
            "tags": []
          },
          "execution_count": 17
        }
      ]
    },
    {
      "cell_type": "code",
      "metadata": {
        "id": "7YxYpQo0bX2f",
        "colab_type": "code",
        "colab": {}
      },
      "source": [
        "year = items['timestamp']"
      ],
      "execution_count": 0,
      "outputs": []
    },
    {
      "cell_type": "code",
      "metadata": {
        "id": "hF3cQ7K4rMtS",
        "colab_type": "code",
        "outputId": "550d6d0b-38ae-479b-d161-e51db16accd2",
        "colab": {
          "base_uri": "https://localhost:8080/",
          "height": 355
        }
      },
      "source": [
        "items.head(10)"
      ],
      "execution_count": 0,
      "outputs": [
        {
          "output_type": "execute_result",
          "data": {
            "text/html": [
              "<div>\n",
              "<style scoped>\n",
              "    .dataframe tbody tr th:only-of-type {\n",
              "        vertical-align: middle;\n",
              "    }\n",
              "\n",
              "    .dataframe tbody tr th {\n",
              "        vertical-align: top;\n",
              "    }\n",
              "\n",
              "    .dataframe thead th {\n",
              "        text-align: right;\n",
              "    }\n",
              "</style>\n",
              "<table border=\"1\" class=\"dataframe\">\n",
              "  <thead>\n",
              "    <tr style=\"text-align: right;\">\n",
              "      <th></th>\n",
              "      <th>timestamp</th>\n",
              "      <th>itemid</th>\n",
              "      <th>property</th>\n",
              "      <th>value</th>\n",
              "    </tr>\n",
              "  </thead>\n",
              "  <tbody>\n",
              "    <tr>\n",
              "      <th>0</th>\n",
              "      <td>2015-06-28 03:00:00</td>\n",
              "      <td>460429</td>\n",
              "      <td>categoryid</td>\n",
              "      <td>1338</td>\n",
              "    </tr>\n",
              "    <tr>\n",
              "      <th>1</th>\n",
              "      <td>2015-09-06 03:00:00</td>\n",
              "      <td>206783</td>\n",
              "      <td>888</td>\n",
              "      <td>1116713 960601 n277.200</td>\n",
              "    </tr>\n",
              "    <tr>\n",
              "      <th>2</th>\n",
              "      <td>2015-08-09 03:00:00</td>\n",
              "      <td>395014</td>\n",
              "      <td>400</td>\n",
              "      <td>n552.000 639502 n720.000 424566</td>\n",
              "    </tr>\n",
              "    <tr>\n",
              "      <th>3</th>\n",
              "      <td>2015-05-10 03:00:00</td>\n",
              "      <td>59481</td>\n",
              "      <td>790</td>\n",
              "      <td>n15360.000</td>\n",
              "    </tr>\n",
              "    <tr>\n",
              "      <th>4</th>\n",
              "      <td>2015-05-17 03:00:00</td>\n",
              "      <td>156781</td>\n",
              "      <td>917</td>\n",
              "      <td>828513</td>\n",
              "    </tr>\n",
              "    <tr>\n",
              "      <th>5</th>\n",
              "      <td>2015-07-05 03:00:00</td>\n",
              "      <td>285026</td>\n",
              "      <td>available</td>\n",
              "      <td>0</td>\n",
              "    </tr>\n",
              "    <tr>\n",
              "      <th>6</th>\n",
              "      <td>2015-06-14 03:00:00</td>\n",
              "      <td>89534</td>\n",
              "      <td>213</td>\n",
              "      <td>1121373</td>\n",
              "    </tr>\n",
              "    <tr>\n",
              "      <th>7</th>\n",
              "      <td>2015-05-17 03:00:00</td>\n",
              "      <td>264312</td>\n",
              "      <td>6</td>\n",
              "      <td>319724</td>\n",
              "    </tr>\n",
              "    <tr>\n",
              "      <th>8</th>\n",
              "      <td>2015-06-07 03:00:00</td>\n",
              "      <td>229370</td>\n",
              "      <td>202</td>\n",
              "      <td>1330310</td>\n",
              "    </tr>\n",
              "    <tr>\n",
              "      <th>9</th>\n",
              "      <td>2015-06-14 03:00:00</td>\n",
              "      <td>98113</td>\n",
              "      <td>451</td>\n",
              "      <td>1141052 n48.000</td>\n",
              "    </tr>\n",
              "  </tbody>\n",
              "</table>\n",
              "</div>"
            ],
            "text/plain": [
              "            timestamp  itemid    property                            value\n",
              "0 2015-06-28 03:00:00  460429  categoryid                             1338\n",
              "1 2015-09-06 03:00:00  206783         888          1116713 960601 n277.200\n",
              "2 2015-08-09 03:00:00  395014         400  n552.000 639502 n720.000 424566\n",
              "3 2015-05-10 03:00:00   59481         790                       n15360.000\n",
              "4 2015-05-17 03:00:00  156781         917                           828513\n",
              "5 2015-07-05 03:00:00  285026   available                                0\n",
              "6 2015-06-14 03:00:00   89534         213                          1121373\n",
              "7 2015-05-17 03:00:00  264312           6                           319724\n",
              "8 2015-06-07 03:00:00  229370         202                          1330310\n",
              "9 2015-06-14 03:00:00   98113         451                  1141052 n48.000"
            ]
          },
          "metadata": {
            "tags": []
          },
          "execution_count": 25
        }
      ]
    },
    {
      "cell_type": "markdown",
      "metadata": {
        "id": "VA-bGmQrzVyo",
        "colab_type": "text"
      },
      "source": [
        "**Slicing each dataset to 50000 rows**"
      ]
    },
    {
      "cell_type": "code",
      "metadata": {
        "id": "4yMD4k9SySDm",
        "colab_type": "code",
        "colab": {}
      },
      "source": [
        "category_item_timestamp = category_item_timestamp.head(50000)"
      ],
      "execution_count": 0,
      "outputs": []
    },
    {
      "cell_type": "code",
      "metadata": {
        "id": "GSUgKV2vydgl",
        "colab_type": "code",
        "colab": {}
      },
      "source": [
        "category_item_timestamp.to_csv('category_item_timestamp_1.csv')"
      ],
      "execution_count": 0,
      "outputs": []
    },
    {
      "cell_type": "code",
      "metadata": {
        "id": "MddDa4QKyusa",
        "colab_type": "code",
        "colab": {}
      },
      "source": [
        "category_item_timestamp = category_item_timestamp.head(50000)"
      ],
      "execution_count": 0,
      "outputs": []
    },
    {
      "cell_type": "code",
      "metadata": {
        "id": "Hfk0WiHPyvP9",
        "colab_type": "code",
        "colab": {}
      },
      "source": [
        "category_item_timestamp.to_csv('category_item_timestamp_1.csv')"
      ],
      "execution_count": 0,
      "outputs": []
    },
    {
      "cell_type": "markdown",
      "metadata": {
        "id": "4UL3wd-7oU12",
        "colab_type": "text"
      },
      "source": [
        "**Customers who bought something(but not sure if he repeated)Assume for now that the 11,719 visitors are unique and made at least a single purchase**"
      ]
    },
    {
      "cell_type": "code",
      "metadata": {
        "id": "BvlCP1nZoTPc",
        "colab_type": "code",
        "outputId": "bfb3f89a-c825-460f-8bd8-6cc31edc67eb",
        "colab": {
          "base_uri": "https://localhost:8080/",
          "height": 35
        }
      },
      "source": [
        "customer_purchased = events_df[events_df.transactionid.notnull()].visitorid.unique()\n",
        "customer_purchased.size"
      ],
      "execution_count": 0,
      "outputs": [
        {
          "output_type": "execute_result",
          "data": {
            "text/plain": [
              "11719"
            ]
          },
          "metadata": {
            "tags": []
          },
          "execution_count": 26
        }
      ]
    },
    {
      "cell_type": "markdown",
      "metadata": {
        "id": "nGBWAzIVpDT0",
        "colab_type": "text"
      },
      "source": [
        "**Count of Unique visitor IDs**"
      ]
    },
    {
      "cell_type": "code",
      "metadata": {
        "id": "d9NonNhgodDC",
        "colab_type": "code",
        "outputId": "a76a65b7-ba34-40af-e2cc-cc69df9db3e7",
        "colab": {
          "base_uri": "https://localhost:8080/",
          "height": 35
        }
      },
      "source": [
        "all_customers = events_df.visitorid.unique()\n",
        "all_customers.size"
      ],
      "execution_count": 0,
      "outputs": [
        {
          "output_type": "execute_result",
          "data": {
            "text/plain": [
              "1407580"
            ]
          },
          "metadata": {
            "tags": []
          },
          "execution_count": 27
        }
      ]
    },
    {
      "cell_type": "markdown",
      "metadata": {
        "id": "E_u7xkQeqOfW",
        "colab_type": "text"
      },
      "source": [
        "**Customer with Ids who bought something**"
      ]
    },
    {
      "cell_type": "code",
      "metadata": {
        "id": "o7ue-PDYqV74",
        "colab_type": "code",
        "colab": {}
      },
      "source": [
        "customer_browsed = [x for x in all_customers if x not in customer_purchased]"
      ],
      "execution_count": 0,
      "outputs": []
    },
    {
      "cell_type": "code",
      "metadata": {
        "id": "zENJrsBsrWv3",
        "colab_type": "code",
        "outputId": "c8d8fe15-e275-4f87-9edb-fc6a0f2f5e89",
        "colab": {
          "base_uri": "https://localhost:8080/",
          "height": 35
        }
      },
      "source": [
        "len(customer_browsed)"
      ],
      "execution_count": 0,
      "outputs": [
        {
          "output_type": "execute_result",
          "data": {
            "text/plain": [
              "1395861"
            ]
          },
          "metadata": {
            "tags": []
          },
          "execution_count": 29
        }
      ]
    },
    {
      "cell_type": "markdown",
      "metadata": {
        "id": "vzL7TIb0sGqT",
        "colab_type": "text"
      },
      "source": [
        "**Visitor ID - 992329 and their purchase history**"
      ]
    },
    {
      "cell_type": "code",
      "metadata": {
        "id": "QJH_abv1sUwe",
        "colab_type": "code",
        "outputId": "48fe7656-511d-4913-801c-866d07edbefe",
        "colab": {
          "base_uri": "https://localhost:8080/",
          "height": 679
        }
      },
      "source": [
        "items_new = items.loc[items.property.isin(['categoryid', 'available']), :]\n",
        "print(\"items with categoryid and available as propery:\", items_new.size)\n",
        "items_new.head(20)"
      ],
      "execution_count": 0,
      "outputs": [
        {
          "output_type": "stream",
          "text": [
            "items with categoryid and available as propery: 5161500\n"
          ],
          "name": "stdout"
        },
        {
          "output_type": "execute_result",
          "data": {
            "text/html": [
              "<div>\n",
              "<style scoped>\n",
              "    .dataframe tbody tr th:only-of-type {\n",
              "        vertical-align: middle;\n",
              "    }\n",
              "\n",
              "    .dataframe tbody tr th {\n",
              "        vertical-align: top;\n",
              "    }\n",
              "\n",
              "    .dataframe thead th {\n",
              "        text-align: right;\n",
              "    }\n",
              "</style>\n",
              "<table border=\"1\" class=\"dataframe\">\n",
              "  <thead>\n",
              "    <tr style=\"text-align: right;\">\n",
              "      <th></th>\n",
              "      <th>timestamp</th>\n",
              "      <th>itemid</th>\n",
              "      <th>property</th>\n",
              "      <th>value</th>\n",
              "    </tr>\n",
              "  </thead>\n",
              "  <tbody>\n",
              "    <tr>\n",
              "      <th>0</th>\n",
              "      <td>2015-06-28 03:00:00</td>\n",
              "      <td>460429</td>\n",
              "      <td>categoryid</td>\n",
              "      <td>1338</td>\n",
              "    </tr>\n",
              "    <tr>\n",
              "      <th>5</th>\n",
              "      <td>2015-07-05 03:00:00</td>\n",
              "      <td>285026</td>\n",
              "      <td>available</td>\n",
              "      <td>0</td>\n",
              "    </tr>\n",
              "    <tr>\n",
              "      <th>15</th>\n",
              "      <td>2015-07-19 03:00:00</td>\n",
              "      <td>186518</td>\n",
              "      <td>available</td>\n",
              "      <td>0</td>\n",
              "    </tr>\n",
              "    <tr>\n",
              "      <th>79</th>\n",
              "      <td>2015-06-07 03:00:00</td>\n",
              "      <td>423682</td>\n",
              "      <td>available</td>\n",
              "      <td>0</td>\n",
              "    </tr>\n",
              "    <tr>\n",
              "      <th>82</th>\n",
              "      <td>2015-06-14 03:00:00</td>\n",
              "      <td>316253</td>\n",
              "      <td>available</td>\n",
              "      <td>1</td>\n",
              "    </tr>\n",
              "    <tr>\n",
              "      <th>96</th>\n",
              "      <td>2015-07-19 03:00:00</td>\n",
              "      <td>430459</td>\n",
              "      <td>available</td>\n",
              "      <td>0</td>\n",
              "    </tr>\n",
              "    <tr>\n",
              "      <th>101</th>\n",
              "      <td>2015-05-31 03:00:00</td>\n",
              "      <td>411262</td>\n",
              "      <td>available</td>\n",
              "      <td>0</td>\n",
              "    </tr>\n",
              "    <tr>\n",
              "      <th>116</th>\n",
              "      <td>2015-09-06 03:00:00</td>\n",
              "      <td>50372</td>\n",
              "      <td>available</td>\n",
              "      <td>0</td>\n",
              "    </tr>\n",
              "    <tr>\n",
              "      <th>119</th>\n",
              "      <td>2015-09-06 03:00:00</td>\n",
              "      <td>289043</td>\n",
              "      <td>available</td>\n",
              "      <td>0</td>\n",
              "    </tr>\n",
              "    <tr>\n",
              "      <th>133</th>\n",
              "      <td>2015-06-28 03:00:00</td>\n",
              "      <td>365407</td>\n",
              "      <td>available</td>\n",
              "      <td>0</td>\n",
              "    </tr>\n",
              "    <tr>\n",
              "      <th>140</th>\n",
              "      <td>2015-05-24 03:00:00</td>\n",
              "      <td>281245</td>\n",
              "      <td>categoryid</td>\n",
              "      <td>1277</td>\n",
              "    </tr>\n",
              "    <tr>\n",
              "      <th>151</th>\n",
              "      <td>2015-06-28 03:00:00</td>\n",
              "      <td>35575</td>\n",
              "      <td>categoryid</td>\n",
              "      <td>1059</td>\n",
              "    </tr>\n",
              "    <tr>\n",
              "      <th>166</th>\n",
              "      <td>2015-06-07 03:00:00</td>\n",
              "      <td>235243</td>\n",
              "      <td>available</td>\n",
              "      <td>0</td>\n",
              "    </tr>\n",
              "    <tr>\n",
              "      <th>167</th>\n",
              "      <td>2015-06-28 03:00:00</td>\n",
              "      <td>139939</td>\n",
              "      <td>available</td>\n",
              "      <td>1</td>\n",
              "    </tr>\n",
              "    <tr>\n",
              "      <th>179</th>\n",
              "      <td>2015-05-17 03:00:00</td>\n",
              "      <td>268068</td>\n",
              "      <td>available</td>\n",
              "      <td>0</td>\n",
              "    </tr>\n",
              "    <tr>\n",
              "      <th>185</th>\n",
              "      <td>2015-05-10 03:00:00</td>\n",
              "      <td>182614</td>\n",
              "      <td>available</td>\n",
              "      <td>1</td>\n",
              "    </tr>\n",
              "    <tr>\n",
              "      <th>189</th>\n",
              "      <td>2015-07-19 03:00:00</td>\n",
              "      <td>8313</td>\n",
              "      <td>categoryid</td>\n",
              "      <td>1147</td>\n",
              "    </tr>\n",
              "    <tr>\n",
              "      <th>197</th>\n",
              "      <td>2015-07-26 03:00:00</td>\n",
              "      <td>55102</td>\n",
              "      <td>categoryid</td>\n",
              "      <td>47</td>\n",
              "    </tr>\n",
              "    <tr>\n",
              "      <th>212</th>\n",
              "      <td>2015-05-10 03:00:00</td>\n",
              "      <td>289825</td>\n",
              "      <td>available</td>\n",
              "      <td>1</td>\n",
              "    </tr>\n",
              "    <tr>\n",
              "      <th>213</th>\n",
              "      <td>2015-05-31 03:00:00</td>\n",
              "      <td>397079</td>\n",
              "      <td>categoryid</td>\n",
              "      <td>619</td>\n",
              "    </tr>\n",
              "  </tbody>\n",
              "</table>\n",
              "</div>"
            ],
            "text/plain": [
              "              timestamp  itemid    property value\n",
              "0   2015-06-28 03:00:00  460429  categoryid  1338\n",
              "5   2015-07-05 03:00:00  285026   available     0\n",
              "15  2015-07-19 03:00:00  186518   available     0\n",
              "79  2015-06-07 03:00:00  423682   available     0\n",
              "82  2015-06-14 03:00:00  316253   available     1\n",
              "96  2015-07-19 03:00:00  430459   available     0\n",
              "101 2015-05-31 03:00:00  411262   available     0\n",
              "116 2015-09-06 03:00:00   50372   available     0\n",
              "119 2015-09-06 03:00:00  289043   available     0\n",
              "133 2015-06-28 03:00:00  365407   available     0\n",
              "140 2015-05-24 03:00:00  281245  categoryid  1277\n",
              "151 2015-06-28 03:00:00   35575  categoryid  1059\n",
              "166 2015-06-07 03:00:00  235243   available     0\n",
              "167 2015-06-28 03:00:00  139939   available     1\n",
              "179 2015-05-17 03:00:00  268068   available     0\n",
              "185 2015-05-10 03:00:00  182614   available     1\n",
              "189 2015-07-19 03:00:00    8313  categoryid  1147\n",
              "197 2015-07-26 03:00:00   55102  categoryid    47\n",
              "212 2015-05-10 03:00:00  289825   available     1\n",
              "213 2015-05-31 03:00:00  397079  categoryid   619"
            ]
          },
          "metadata": {
            "tags": []
          },
          "execution_count": 30
        }
      ]
    },
    {
      "cell_type": "code",
      "metadata": {
        "id": "bg0KLR4tsBKJ",
        "colab_type": "code",
        "outputId": "4c08149b-f7d6-493f-91b7-0735b2e7e088",
        "colab": {
          "base_uri": "https://localhost:8080/",
          "height": 969
        }
      },
      "source": [
        "events_df[events_df.visitorid == 992329].sort_values('timestamp')"
      ],
      "execution_count": 0,
      "outputs": [
        {
          "output_type": "execute_result",
          "data": {
            "text/html": [
              "<div>\n",
              "<style scoped>\n",
              "    .dataframe tbody tr th:only-of-type {\n",
              "        vertical-align: middle;\n",
              "    }\n",
              "\n",
              "    .dataframe tbody tr th {\n",
              "        vertical-align: top;\n",
              "    }\n",
              "\n",
              "    .dataframe thead th {\n",
              "        text-align: right;\n",
              "    }\n",
              "</style>\n",
              "<table border=\"1\" class=\"dataframe\">\n",
              "  <thead>\n",
              "    <tr style=\"text-align: right;\">\n",
              "      <th></th>\n",
              "      <th>timestamp</th>\n",
              "      <th>visitorid</th>\n",
              "      <th>event</th>\n",
              "      <th>itemid</th>\n",
              "      <th>transactionid</th>\n",
              "    </tr>\n",
              "  </thead>\n",
              "  <tbody>\n",
              "    <tr>\n",
              "      <th>1492085</th>\n",
              "      <td>2015-05-05 05:06:24</td>\n",
              "      <td>992329</td>\n",
              "      <td>view</td>\n",
              "      <td>2711</td>\n",
              "      <td>NaN</td>\n",
              "    </tr>\n",
              "    <tr>\n",
              "      <th>1981137</th>\n",
              "      <td>2015-05-28 02:57:28</td>\n",
              "      <td>992329</td>\n",
              "      <td>view</td>\n",
              "      <td>340825</td>\n",
              "      <td>NaN</td>\n",
              "    </tr>\n",
              "    <tr>\n",
              "      <th>1972814</th>\n",
              "      <td>2015-05-28 03:05:22</td>\n",
              "      <td>992329</td>\n",
              "      <td>view</td>\n",
              "      <td>446522</td>\n",
              "      <td>NaN</td>\n",
              "    </tr>\n",
              "    <tr>\n",
              "      <th>1</th>\n",
              "      <td>2015-06-02 05:50:14</td>\n",
              "      <td>992329</td>\n",
              "      <td>view</td>\n",
              "      <td>248676</td>\n",
              "      <td>NaN</td>\n",
              "    </tr>\n",
              "    <tr>\n",
              "      <th>20559</th>\n",
              "      <td>2015-06-02 05:57:52</td>\n",
              "      <td>992329</td>\n",
              "      <td>view</td>\n",
              "      <td>193150</td>\n",
              "      <td>NaN</td>\n",
              "    </tr>\n",
              "    <tr>\n",
              "      <th>44215</th>\n",
              "      <td>2015-06-02 06:12:35</td>\n",
              "      <td>992329</td>\n",
              "      <td>view</td>\n",
              "      <td>246453</td>\n",
              "      <td>NaN</td>\n",
              "    </tr>\n",
              "    <tr>\n",
              "      <th>67693</th>\n",
              "      <td>2015-06-04 05:18:07</td>\n",
              "      <td>992329</td>\n",
              "      <td>view</td>\n",
              "      <td>8775</td>\n",
              "      <td>NaN</td>\n",
              "    </tr>\n",
              "    <tr>\n",
              "      <th>50030</th>\n",
              "      <td>2015-06-04 05:19:18</td>\n",
              "      <td>992329</td>\n",
              "      <td>view</td>\n",
              "      <td>8775</td>\n",
              "      <td>NaN</td>\n",
              "    </tr>\n",
              "    <tr>\n",
              "      <th>64989</th>\n",
              "      <td>2015-06-04 05:20:05</td>\n",
              "      <td>992329</td>\n",
              "      <td>view</td>\n",
              "      <td>8775</td>\n",
              "      <td>NaN</td>\n",
              "    </tr>\n",
              "    <tr>\n",
              "      <th>92903</th>\n",
              "      <td>2015-06-05 04:55:49</td>\n",
              "      <td>992329</td>\n",
              "      <td>view</td>\n",
              "      <td>437767</td>\n",
              "      <td>NaN</td>\n",
              "    </tr>\n",
              "    <tr>\n",
              "      <th>82514</th>\n",
              "      <td>2015-06-05 04:59:43</td>\n",
              "      <td>992329</td>\n",
              "      <td>view</td>\n",
              "      <td>225942</td>\n",
              "      <td>NaN</td>\n",
              "    </tr>\n",
              "    <tr>\n",
              "      <th>93057</th>\n",
              "      <td>2015-06-05 05:02:04</td>\n",
              "      <td>992329</td>\n",
              "      <td>view</td>\n",
              "      <td>314515</td>\n",
              "      <td>NaN</td>\n",
              "    </tr>\n",
              "    <tr>\n",
              "      <th>145189</th>\n",
              "      <td>2015-06-07 18:51:02</td>\n",
              "      <td>992329</td>\n",
              "      <td>view</td>\n",
              "      <td>48030</td>\n",
              "      <td>NaN</td>\n",
              "    </tr>\n",
              "    <tr>\n",
              "      <th>133651</th>\n",
              "      <td>2015-06-08 02:09:40</td>\n",
              "      <td>992329</td>\n",
              "      <td>view</td>\n",
              "      <td>352788</td>\n",
              "      <td>NaN</td>\n",
              "    </tr>\n",
              "    <tr>\n",
              "      <th>133782</th>\n",
              "      <td>2015-06-08 02:11:29</td>\n",
              "      <td>992329</td>\n",
              "      <td>view</td>\n",
              "      <td>169213</td>\n",
              "      <td>NaN</td>\n",
              "    </tr>\n",
              "    <tr>\n",
              "      <th>133552</th>\n",
              "      <td>2015-06-08 02:16:26</td>\n",
              "      <td>992329</td>\n",
              "      <td>view</td>\n",
              "      <td>46971</td>\n",
              "      <td>NaN</td>\n",
              "    </tr>\n",
              "    <tr>\n",
              "      <th>145597</th>\n",
              "      <td>2015-06-08 02:20:19</td>\n",
              "      <td>992329</td>\n",
              "      <td>view</td>\n",
              "      <td>225942</td>\n",
              "      <td>NaN</td>\n",
              "    </tr>\n",
              "    <tr>\n",
              "      <th>140216</th>\n",
              "      <td>2015-06-08 02:23:51</td>\n",
              "      <td>992329</td>\n",
              "      <td>view</td>\n",
              "      <td>395071</td>\n",
              "      <td>NaN</td>\n",
              "    </tr>\n",
              "    <tr>\n",
              "      <th>141987</th>\n",
              "      <td>2015-06-08 02:26:42</td>\n",
              "      <td>992329</td>\n",
              "      <td>view</td>\n",
              "      <td>377484</td>\n",
              "      <td>NaN</td>\n",
              "    </tr>\n",
              "    <tr>\n",
              "      <th>206958</th>\n",
              "      <td>2015-06-10 14:08:33</td>\n",
              "      <td>992329</td>\n",
              "      <td>view</td>\n",
              "      <td>299003</td>\n",
              "      <td>NaN</td>\n",
              "    </tr>\n",
              "    <tr>\n",
              "      <th>198995</th>\n",
              "      <td>2015-06-10 14:30:26</td>\n",
              "      <td>992329</td>\n",
              "      <td>view</td>\n",
              "      <td>381721</td>\n",
              "      <td>NaN</td>\n",
              "    </tr>\n",
              "    <tr>\n",
              "      <th>235412</th>\n",
              "      <td>2015-06-11 15:06:58</td>\n",
              "      <td>992329</td>\n",
              "      <td>view</td>\n",
              "      <td>457496</td>\n",
              "      <td>NaN</td>\n",
              "    </tr>\n",
              "    <tr>\n",
              "      <th>244778</th>\n",
              "      <td>2015-06-11 15:09:09</td>\n",
              "      <td>992329</td>\n",
              "      <td>view</td>\n",
              "      <td>2711</td>\n",
              "      <td>NaN</td>\n",
              "    </tr>\n",
              "    <tr>\n",
              "      <th>235797</th>\n",
              "      <td>2015-06-11 15:18:46</td>\n",
              "      <td>992329</td>\n",
              "      <td>view</td>\n",
              "      <td>341971</td>\n",
              "      <td>NaN</td>\n",
              "    </tr>\n",
              "    <tr>\n",
              "      <th>218143</th>\n",
              "      <td>2015-06-13 21:38:51</td>\n",
              "      <td>992329</td>\n",
              "      <td>view</td>\n",
              "      <td>46971</td>\n",
              "      <td>NaN</td>\n",
              "    </tr>\n",
              "    <tr>\n",
              "      <th>441596</th>\n",
              "      <td>2015-06-22 23:04:00</td>\n",
              "      <td>992329</td>\n",
              "      <td>view</td>\n",
              "      <td>206970</td>\n",
              "      <td>NaN</td>\n",
              "    </tr>\n",
              "    <tr>\n",
              "      <th>530937</th>\n",
              "      <td>2015-06-26 17:59:25</td>\n",
              "      <td>992329</td>\n",
              "      <td>view</td>\n",
              "      <td>283405</td>\n",
              "      <td>NaN</td>\n",
              "    </tr>\n",
              "    <tr>\n",
              "      <th>2165774</th>\n",
              "      <td>2015-07-06 15:46:48</td>\n",
              "      <td>992329</td>\n",
              "      <td>view</td>\n",
              "      <td>66480</td>\n",
              "      <td>NaN</td>\n",
              "    </tr>\n",
              "    <tr>\n",
              "      <th>2244592</th>\n",
              "      <td>2015-07-10 04:44:41</td>\n",
              "      <td>992329</td>\n",
              "      <td>view</td>\n",
              "      <td>8775</td>\n",
              "      <td>NaN</td>\n",
              "    </tr>\n",
              "    <tr>\n",
              "      <th>2736260</th>\n",
              "      <td>2015-07-30 16:23:01</td>\n",
              "      <td>992329</td>\n",
              "      <td>view</td>\n",
              "      <td>144660</td>\n",
              "      <td>NaN</td>\n",
              "    </tr>\n",
              "  </tbody>\n",
              "</table>\n",
              "</div>"
            ],
            "text/plain": [
              "                  timestamp  visitorid event  itemid  transactionid\n",
              "1492085 2015-05-05 05:06:24     992329  view    2711            NaN\n",
              "1981137 2015-05-28 02:57:28     992329  view  340825            NaN\n",
              "1972814 2015-05-28 03:05:22     992329  view  446522            NaN\n",
              "1       2015-06-02 05:50:14     992329  view  248676            NaN\n",
              "20559   2015-06-02 05:57:52     992329  view  193150            NaN\n",
              "44215   2015-06-02 06:12:35     992329  view  246453            NaN\n",
              "67693   2015-06-04 05:18:07     992329  view    8775            NaN\n",
              "50030   2015-06-04 05:19:18     992329  view    8775            NaN\n",
              "64989   2015-06-04 05:20:05     992329  view    8775            NaN\n",
              "92903   2015-06-05 04:55:49     992329  view  437767            NaN\n",
              "82514   2015-06-05 04:59:43     992329  view  225942            NaN\n",
              "93057   2015-06-05 05:02:04     992329  view  314515            NaN\n",
              "145189  2015-06-07 18:51:02     992329  view   48030            NaN\n",
              "133651  2015-06-08 02:09:40     992329  view  352788            NaN\n",
              "133782  2015-06-08 02:11:29     992329  view  169213            NaN\n",
              "133552  2015-06-08 02:16:26     992329  view   46971            NaN\n",
              "145597  2015-06-08 02:20:19     992329  view  225942            NaN\n",
              "140216  2015-06-08 02:23:51     992329  view  395071            NaN\n",
              "141987  2015-06-08 02:26:42     992329  view  377484            NaN\n",
              "206958  2015-06-10 14:08:33     992329  view  299003            NaN\n",
              "198995  2015-06-10 14:30:26     992329  view  381721            NaN\n",
              "235412  2015-06-11 15:06:58     992329  view  457496            NaN\n",
              "244778  2015-06-11 15:09:09     992329  view    2711            NaN\n",
              "235797  2015-06-11 15:18:46     992329  view  341971            NaN\n",
              "218143  2015-06-13 21:38:51     992329  view   46971            NaN\n",
              "441596  2015-06-22 23:04:00     992329  view  206970            NaN\n",
              "530937  2015-06-26 17:59:25     992329  view  283405            NaN\n",
              "2165774 2015-07-06 15:46:48     992329  view   66480            NaN\n",
              "2244592 2015-07-10 04:44:41     992329  view    8775            NaN\n",
              "2736260 2015-07-30 16:23:01     992329  view  144660            NaN"
            ]
          },
          "metadata": {
            "tags": []
          },
          "execution_count": 31
        }
      ]
    },
    {
      "cell_type": "markdown",
      "metadata": {
        "id": "epzYkcNIDVV4",
        "colab_type": "text"
      },
      "source": [
        "**Only 5 thousands of transactions repeated, rest 22457 were different so, Market basket analysis would not be so perfect**"
      ]
    },
    {
      "cell_type": "code",
      "metadata": {
        "id": "NfWDh5fTCrzm",
        "colab_type": "code",
        "outputId": "5aad218c-968e-4c64-e706-691ba62e2763",
        "colab": {
          "base_uri": "https://localhost:8080/",
          "height": 35
        }
      },
      "source": [
        "events_df[\"event\"].unique()"
      ],
      "execution_count": 0,
      "outputs": [
        {
          "output_type": "execute_result",
          "data": {
            "text/plain": [
              "array(['view', 'addtocart', 'transaction'], dtype=object)"
            ]
          },
          "metadata": {
            "tags": []
          },
          "execution_count": 34
        }
      ]
    },
    {
      "cell_type": "code",
      "metadata": {
        "id": "9Gr03diPDMwQ",
        "colab_type": "code",
        "outputId": "01fffb4e-3108-40ab-84a2-a69b0b92102a",
        "colab": {
          "base_uri": "https://localhost:8080/",
          "height": 35
        }
      },
      "source": [
        "print(events_df[\"transactionid\"].dropna().unique().shape[0])"
      ],
      "execution_count": 0,
      "outputs": [
        {
          "output_type": "stream",
          "text": [
            "17672\n"
          ],
          "name": "stdout"
        }
      ]
    },
    {
      "cell_type": "code",
      "metadata": {
        "id": "PfQ8XNrpDPlR",
        "colab_type": "code",
        "outputId": "cbc41ea6-e173-4ca7-898a-9c4656152438",
        "colab": {
          "base_uri": "https://localhost:8080/",
          "height": 35
        }
      },
      "source": [
        "print(events_df[\"transactionid\"].dropna().shape[0])"
      ],
      "execution_count": 0,
      "outputs": [
        {
          "output_type": "stream",
          "text": [
            "22457\n"
          ],
          "name": "stdout"
        }
      ]
    },
    {
      "cell_type": "markdown",
      "metadata": {
        "id": "HR4indPDEUyl",
        "colab_type": "text"
      },
      "source": [
        "**Count of Actions and its plot**"
      ]
    },
    {
      "cell_type": "code",
      "metadata": {
        "id": "--Td1Dl9Df0t",
        "colab_type": "code",
        "outputId": "0d4c2fff-47c5-4857-f995-130002ff4146",
        "colab": {
          "base_uri": "https://localhost:8080/",
          "height": 571
        }
      },
      "source": [
        "events_count=events_df[\"event\"].value_counts()\n",
        "fig, axs = plt.subplots(ncols=2,figsize=(15, 8))\n",
        "sns.barplot(events_count.index, events_count.values, ax=axs[0])\n",
        "\n",
        "events_count=events_df[\"event\"].value_counts()[1:]\n",
        "#plt.title('Actions Vs Count')\n",
        "g=sns.barplot(events_count.index, events_count.values,ax=axs[1])\n",
        "#g.set_yscale('log')\n",
        "events_count=events_df[\"event\"].value_counts()[1:]\n",
        "plt.title('Add-to-cart V/s Transaction')\n",
        "sns.barplot(events_count.index, events_count.values)\n",
        "\n",
        "print(events_count)"
      ],
      "execution_count": 0,
      "outputs": [
        {
          "output_type": "stream",
          "text": [
            "addtocart      69332\n",
            "transaction    22457\n",
            "Name: event, dtype: int64\n"
          ],
          "name": "stdout"
        },
        {
          "output_type": "display_data",
          "data": {
            "image/png": "[encoded data removed]",
            "text/plain": [
              "<Figure size 1080x576 with 2 Axes>"
            ]
          },
          "metadata": {
            "tags": []
          }
        }
      ]
    },
    {
      "cell_type": "code",
      "metadata": {
        "id": "Et-8vVB9FdZ6",
        "colab_type": "code",
        "outputId": "f63ebd8b-ebd9-42bd-c11e-19089b23719d",
        "colab": {
          "base_uri": "https://localhost:8080/",
          "height": 466
        }
      },
      "source": [
        "data = events_df.event.value_counts()\n",
        "labels = data.index\n",
        "sizes = data.values\n",
        "explode = (0, 0.05, 0.15)\n",
        "fig, ax = plt.subplots(figsize=(8,8))\n",
        "\n",
        "patches, texts, autotexts = ax.pie(sizes, labels=labels, explode=explode, autopct='%1.2f%%', shadow=False, startangle=0) \n",
        "\n",
        "ax.axis('equal')\n",
        "plt.show()"
      ],
      "execution_count": 0,
      "outputs": [
        {
          "output_type": "display_data",
          "data": {
            "image/png": "[encoded data removed]",
            "text/plain": [
              "<Figure size 576x576 with 1 Axes>"
            ]
          },
          "metadata": {
            "tags": []
          }
        }
      ]
    },
    {
      "cell_type": "markdown",
      "metadata": {
        "id": "XahpveuxGXuk",
        "colab_type": "text"
      },
      "source": [
        "**Number of times items appeared**"
      ]
    },
    {
      "cell_type": "code",
      "metadata": {
        "id": "cRMYoND-GTD9",
        "colab_type": "code",
        "outputId": "9f56bc4d-ae5b-4e3b-f980-df21278e2da8",
        "colab": {
          "base_uri": "https://localhost:8080/",
          "height": 576
        }
      },
      "source": [
        "items = events_df.itemid.value_counts()\n",
        "plt.figure(figsize=(16, 9))\n",
        "plt.hist(items.values, bins=10, log=True,color='red')\n",
        "plt.xlabel('Number of times item appeared', fontsize=16)\n",
        "plt.ylabel('Count of displays with item', fontsize=16)\n",
        "plt.show()"
      ],
      "execution_count": 0,
      "outputs": [
        {
          "output_type": "display_data",
          "data": {
            "image/png": "[encoded data removed]",
            "text/plain": [
              "<Figure size 1152x648 with 1 Axes>"
            ]
          },
          "metadata": {
            "tags": []
          }
        }
      ]
    }
  ]
}